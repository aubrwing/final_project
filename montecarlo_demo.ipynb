{
 "cells": [
  {
   "cell_type": "markdown",
   "id": "7645259e-bfe6-454b-a298-b007009877ef",
   "metadata": {},
   "source": [
    "Scenario 1"
   ]
  },
  {
   "cell_type": "code",
   "execution_count": 14,
   "id": "cc4cf327-3a65-4329-84aa-11b72727eb8b",
   "metadata": {},
   "outputs": [
    {
     "ename": "ModuleNotFoundError",
     "evalue": "No module named 'montecarlo'",
     "output_type": "error",
     "traceback": [
      "\u001b[0;31m---------------------------------------------------------------------------\u001b[0m",
      "\u001b[0;31mModuleNotFoundError\u001b[0m                       Traceback (most recent call last)",
      "Input \u001b[0;32mIn [14]\u001b[0m, in \u001b[0;36m<cell line: 3>\u001b[0;34m()\u001b[0m\n\u001b[1;32m      1\u001b[0m \u001b[38;5;28;01mimport\u001b[39;00m \u001b[38;5;21;01mmatplotlib\u001b[39;00m\u001b[38;5;21;01m.\u001b[39;00m\u001b[38;5;21;01mpyplot\u001b[39;00m \u001b[38;5;28;01mas\u001b[39;00m \u001b[38;5;21;01mplt\u001b[39;00m\n\u001b[1;32m      2\u001b[0m \u001b[38;5;28;01mimport\u001b[39;00m \u001b[38;5;21;01mpandas\u001b[39;00m \u001b[38;5;28;01mas\u001b[39;00m \u001b[38;5;21;01mpd\u001b[39;00m\n\u001b[0;32m----> 3\u001b[0m \u001b[38;5;28;01mfrom\u001b[39;00m \u001b[38;5;21;01mmontecarlo\u001b[39;00m\u001b[38;5;21;01m.\u001b[39;00m\u001b[38;5;21;01mmontecarlo\u001b[39;00m \u001b[38;5;28;01mimport\u001b[39;00m Die\n\u001b[1;32m      4\u001b[0m \u001b[38;5;28;01mfrom\u001b[39;00m \u001b[38;5;21;01mmontecarlo\u001b[39;00m\u001b[38;5;21;01m.\u001b[39;00m\u001b[38;5;21;01mmontecarlo\u001b[39;00m \u001b[38;5;28;01mimport\u001b[39;00m Game\n\u001b[1;32m      5\u001b[0m \u001b[38;5;28;01mfrom\u001b[39;00m \u001b[38;5;21;01mmontecarlo\u001b[39;00m\u001b[38;5;21;01m.\u001b[39;00m\u001b[38;5;21;01mmontecarlo\u001b[39;00m \u001b[38;5;28;01mimport\u001b[39;00m Analyzer\n",
      "\u001b[0;31mModuleNotFoundError\u001b[0m: No module named 'montecarlo'"
     ]
    }
   ],
   "source": [
    "import matplotlib.pyplot as plt\n",
    "import pandas as pd\n",
    "from montecarlo.montecarlo import Die\n",
    "from montecarlo.montecarlo import Game\n",
    "from montecarlo.montecarlo import Analyzer\n",
    "fair_coin = Die(['H','T'])\n",
    "unfair_coin = Die(['H','T'])\n",
    "unfair_coin.change_weight('H',5)\n",
    "myGame = Game([fair_coin,fair_coin,fair_coin])\n",
    "myGame.play(1000)\n",
    "myGame2 = Game([fair_coin,unfair_coin,unfair_coin])\n",
    "myGame2.play(1000)\n",
    "myAnalyzer = Analyzer(myGame)\n",
    "fair_jackpot = myAnalyzer.jackpot()\n",
    "myAnalyzer2 = Analyzer(myGame2)\n",
    "unfair_jackpot = myAnalyzer2.jackpot()\n",
    "plt.bar(['Fair Die','Unfair Die'],[fair_jackpot/1000,unfair_jackpot/1000])\n",
    "plt.xlabel('Die Type')\n",
    "plt.ylabel('Frequency of Jackpot')\n",
    "plt.title(\"Jackpot Results\")"
   ]
  },
  {
   "cell_type": "markdown",
   "id": "d7f3955f-40a0-471f-b995-27df4a878fb1",
   "metadata": {},
   "source": [
    "Scenario 2"
   ]
  },
  {
   "cell_type": "code",
   "execution_count": null,
   "id": "52709871-d03e-428b-8e6e-658d6910705e",
   "metadata": {},
   "outputs": [],
   "source": [
    "fair_die = Die([1,2,3,4,5,6])\n",
    "unfair_die1 = Die([1,2,3,4,5,6])\n",
    "unfair_die2 = Die([1,2,3,4,5,6])\n",
    "unfair_die1.change_weight(6,5)\n",
    "unfair_die2.change_weight(1,5)\n",
    "myGame = Game([fair_die,fair_die,fair_die,fair_die,fair_die])\n",
    "myGame.play(10000)\n",
    "myGame2 = Game([fair_die, fair_die, unfair_die1, unfair_die1, unfair_die2])\n",
    "myGame2.play(10000)\n",
    "myAnalyzer3 = Analyzer(myGame)\n",
    "myAnalyzer4 = Analyzer(myGame2)\n",
    "fairJackpot3 = myAnalyzer3.jackpot()\n",
    "unfairJackpot4 = myAnalyzer4.jackpot()\n",
    "plt.bar(['Fair Die','Unfair Die'],[fairJackpot3/10000,unfairJackpot4/10000])\n",
    "plt.xlabel('Die Type')\n",
    "plt.ylabel('Frequency of Jackpot')\n",
    "plt.title(\"Jackpot Results\")"
   ]
  },
  {
   "cell_type": "code",
   "execution_count": null,
   "id": "3c64fdeb-a8c4-4c00-9dc0-82c51243d401",
   "metadata": {},
   "outputs": [],
   "source": [
    "myAnalyzer3.face_counts_per_roll()\n",
    "myAnalyzer4.face_counts_per_roll()\n",
    "counts3 = myAnalyzer3.face_counts.value_counts().tolist()\n",
    "counts4 = myAnalyzer4.face_counts.value_counts().tolist()\n",
    "plt.bar(range(1,11), counts3[0:10])\n",
    "plt.xlabel('10 most Frequent combinations')\n",
    "plt.ylabel('Frequency of combination')\n",
    "plt.title(\"Fair Die Most Frequent Jackpot Results\")\n",
    "plt.xticks(range(1,11))\n",
    "plt.show()"
   ]
  },
  {
   "cell_type": "code",
   "execution_count": null,
   "id": "a4245d8f-4a80-4e82-b7ff-68c91b8648af",
   "metadata": {},
   "outputs": [],
   "source": [
    "plt.bar(range(1,11), counts4[0:10])\n",
    "plt.xlabel('10 most Frequent combinations')\n",
    "plt.ylabel('Frequency of combination')\n",
    "plt.title(\"Unfair Die Most Frequent Jackpot Results\")\n",
    "plt.xticks(range(1,11))\n",
    "plt.show()"
   ]
  },
  {
   "cell_type": "markdown",
   "id": "4153ccad-b903-4640-9969-6f3c6cfe9d3f",
   "metadata": {},
   "source": [
    "Scenario 3"
   ]
  },
  {
   "cell_type": "markdown",
   "id": "301b0c2a-dad6-45c0-985a-40838ac94403",
   "metadata": {},
   "source": [
    "I only found 3 combos that resembled actual English words, but they were all proper names (like Lisel). If we are not including proper names, the relative frequency of these words is 0. Otherwise, it would be 0.003."
   ]
  },
  {
   "cell_type": "code",
   "execution_count": null,
   "id": "82b6b730-15be-44d6-8890-19e0e43b1cdc",
   "metadata": {},
   "outputs": [],
   "source": [
    "letter_die = Die(['A','B','C','D','E','F','G','H','I','J','K','L','M','N',\n",
    "                  'O','P','Q','R','S','T','U','V','W','X','Y','Z'])\n",
    "letter_die.change_weight('A',8.4966)\n",
    "letter_die.change_weight('B',2.0720)\n",
    "letter_die.change_weight('C',4.5388)\n",
    "letter_die.change_weight('D',3.3844)\n",
    "letter_die.change_weight('E',11.1607)\n",
    "letter_die.change_weight('F',1.8121)\n",
    "letter_die.change_weight('G',2.4705)\n",
    "letter_die.change_weight('H',3.0034)\n",
    "letter_die.change_weight('I',7.5448)\n",
    "letter_die.change_weight('J',0.1965)\n",
    "letter_die.change_weight('K',1.1016)\n",
    "letter_die.change_weight('L',5.4893)\n",
    "letter_die.change_weight('M',3.0129)\n",
    "letter_die.change_weight('N',6.6544)\n",
    "letter_die.change_weight('O',7.1635)\n",
    "letter_die.change_weight('P',3.1671)\n",
    "letter_die.change_weight('Q',0.1962)\n",
    "letter_die.change_weight('R',7.5809)\n",
    "letter_die.change_weight('S',5.7351)\n",
    "letter_die.change_weight('T',6.9509)\n",
    "letter_die.change_weight('U',3.6308)\n",
    "letter_die.change_weight('V',1.0074)\n",
    "letter_die.change_weight('W',1.2899)\n",
    "letter_die.change_weight('X',0.2902)\n",
    "letter_die.change_weight('Y',1.7779)\n",
    "letter_die.change_weight('Z',0.2722)\n",
    "myGameLetter = Game([letter_die,letter_die,letter_die,letter_die,letter_die])\n",
    "myGameLetter.play(1000)\n",
    "words = myGameLetter.show_play()\n",
    "pd.set_option('display.max_rows', None)\n",
    "words"
   ]
  },
  {
   "cell_type": "code",
   "execution_count": null,
   "id": "69238f63-df0a-4e09-890f-c0f730a16a85",
   "metadata": {},
   "outputs": [],
   "source": []
  }
 ],
 "metadata": {
  "kernelspec": {
   "display_name": "Python 3 (ipykernel)",
   "language": "python",
   "name": "python3"
  },
  "language_info": {
   "codemirror_mode": {
    "name": "ipython",
    "version": 3
   },
   "file_extension": ".py",
   "mimetype": "text/x-python",
   "name": "python",
   "nbconvert_exporter": "python",
   "pygments_lexer": "ipython3",
   "version": "3.9.12"
  }
 },
 "nbformat": 4,
 "nbformat_minor": 5
}
